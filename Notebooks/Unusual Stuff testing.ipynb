{
 "cells": [
  {
   "cell_type": "markdown",
   "metadata": {},
   "source": [
    "## Running and renewing dataloader as an interator\n",
    "#### It seemed like it might have broken shuffle, but this small example shows otherwise"
   ]
  },
  {
   "cell_type": "code",
   "execution_count": 1,
   "metadata": {},
   "outputs": [],
   "source": [
    "from   torch.utils.data import Dataset, DataLoader\n",
    "import random"
   ]
  },
  {
   "cell_type": "code",
   "execution_count": 2,
   "metadata": {},
   "outputs": [],
   "source": [
    "# The dataset and the meta dataset. We look at another alternaive below\n",
    "\n",
    "class Test_dataset(Dataset):\n",
    "\n",
    "    def __init__(self, max_int):\n",
    "        self._max_int = max_int\n",
    "        self._samples = list(range(1, max_int + 1))\n",
    "\n",
    "    def __len__(self):\n",
    "        return self._max_int\n",
    "\n",
    "    def __getitem__(self, index):\n",
    "        return self._samples[index]\n",
    "\n",
    "class Meta_test_dataset(Dataset):\n",
    "\n",
    "    def __init__(self, max_int, lower_batch_size):\n",
    "        self._max_int          = max_int\n",
    "        self._lower_batch_size = lower_batch_size\n",
    "        \n",
    "        self._meta_data = ['a', 'b', 'c', 'd']\n",
    "\n",
    "        self._lower_dataset    = Test_dataset(max_int)\n",
    "        self._lower_dataloader = DataLoader(self._lower_dataset, batch_size=lower_batch_size, shuffle=True)\n",
    "        self._lower_iter       = iter(self._lower_dataloader)\n",
    "\n",
    "        num_full_x_batches = len(self._lower_dataset) // self._lower_batch_size\n",
    "        equal_size_last_x_batch = len(self._lower_dataset) % self._lower_batch_size == 0\n",
    "        self._len_this_meta_dataset = num_full_x_batches + (0 if equal_size_last_x_batch else 1)\n",
    "\n",
    "    def __len__(self):\n",
    "        return self._len_this_meta_dataset\n",
    "\n",
    "    def __getitem__(self, index):\n",
    "        # Get batch part concerning the observations, x sentences\n",
    "        try:\n",
    "            lower_data = self._lower_iter.next()\n",
    "        except StopIteration:\n",
    "            # This reinitializes the dataloader as an iterator, allowing the retrieval of a single batch at a time.\n",
    "            self._lower_iter = iter(self._lower_dataloader)\n",
    "            lower_data = self._lower_iter.next()\n",
    "\n",
    "        return (lower_data, random.choice(self._meta_data))"
   ]
  },
  {
   "cell_type": "code",
   "execution_count": 4,
   "metadata": {},
   "outputs": [
    {
     "name": "stdout",
     "output_type": "stream",
     "text": [
      "EPOCH: 0 ||| Data --> [tensor([[7, 8]]), ('a',)]\n",
      "EPOCH: 0 ||| Data --> [tensor([[4, 5]]), ('c',)]\n",
      "EPOCH: 0 ||| Data --> [tensor([[ 6, 10]]), ('c',)]\n",
      "EPOCH: 0 ||| Data --> [tensor([[3, 9]]), ('d',)]\n",
      "EPOCH: 0 ||| Data --> [tensor([[1, 2]]), ('d',)]\n",
      "\n",
      "EPOCH: 1 ||| Data --> [tensor([[4, 5]]), ('d',)]\n",
      "EPOCH: 1 ||| Data --> [tensor([[2, 7]]), ('a',)]\n",
      "EPOCH: 1 ||| Data --> [tensor([[10,  8]]), ('b',)]\n",
      "EPOCH: 1 ||| Data --> [tensor([[1, 9]]), ('a',)]\n",
      "EPOCH: 1 ||| Data --> [tensor([[6, 3]]), ('d',)]\n",
      "\n"
     ]
    }
   ],
   "source": [
    "test_meta_dataset = Meta_test_dataset(10, 2)\n",
    "test_meta_dataloader = DataLoader(test_meta_dataset, batch_size=1, shuffle=True)\n",
    "\n",
    "for epoch in range(2):\n",
    "    for batch in test_meta_dataloader:\n",
    "        print(\"EPOCH: \" + str(epoch) + \" ||| Data --> \" + str(batch))\n",
    "    print()"
   ]
  },
  {
   "cell_type": "markdown",
   "metadata": {},
   "source": [
    "##### Second attempt"
   ]
  },
  {
   "cell_type": "code",
   "execution_count": 36,
   "metadata": {},
   "outputs": [],
   "source": [
    "# The dataset and the meta dataset alternaive\n",
    "\n",
    "class Test_dataset(Dataset):\n",
    "\n",
    "    def __init__(self, max_int):\n",
    "        self._max_int = max_int\n",
    "        self._samples = list(range(1, max_int + 1))\n",
    "\n",
    "    def __len__(self):\n",
    "        return self._max_int\n",
    "\n",
    "    def __getitem__(self, index):\n",
    "        return self._samples[index]\n",
    "\n",
    "class Meta_test_dataset(Dataset):\n",
    "\n",
    "    def __init__(self, max_int, lower_batch_size):\n",
    "        self._max_int          = max_int\n",
    "        self._lower_batch_size = lower_batch_size\n",
    "        \n",
    "        self._meta_data = ['a', 'b', 'c', 'd']\n",
    "\n",
    "        self._lower_dataset    = Test_dataset(max_int)\n",
    "        self._lower_dataloader = DataLoader(self._lower_dataset, batch_size=lower_batch_size, shuffle=True)\n",
    "        self._infinite_lower_dl = self._get_subdataset_batch()\n",
    "\n",
    "        num_full_x_batches = len(self._lower_dataset) // self._lower_batch_size\n",
    "        equal_size_last_x_batch = len(self._lower_dataset) % self._lower_batch_size == 0\n",
    "        self._len_this_meta_dataset = num_full_x_batches + (0 if equal_size_last_x_batch else 1)\n",
    "\n",
    "    def __len__(self):\n",
    "        return self._len_this_meta_dataset\n",
    "\n",
    "    def _get_subdataset_batch(self):\n",
    "        while(True):\n",
    "            for batch in self._lower_dataloader:\n",
    "                yield batch\n",
    "\n",
    "    def __getitem__(self, index):\n",
    "        return (next(self._infinite_lower_dl), random.choice(self._meta_data))"
   ]
  },
  {
   "cell_type": "code",
   "execution_count": 37,
   "metadata": {},
   "outputs": [
    {
     "name": "stdout",
     "output_type": "stream",
     "text": [
      "EPOCH: 0 ||| Data --> [tensor([[10,  3]]), ('c',)]\n",
      "EPOCH: 0 ||| Data --> [tensor([[1, 6]]), ('a',)]\n",
      "EPOCH: 0 ||| Data --> [tensor([[7, 9]]), ('c',)]\n",
      "EPOCH: 0 ||| Data --> [tensor([[8, 2]]), ('a',)]\n",
      "EPOCH: 0 ||| Data --> [tensor([[5, 4]]), ('a',)]\n",
      "\n",
      "EPOCH: 1 ||| Data --> [tensor([[5, 1]]), ('d',)]\n",
      "EPOCH: 1 ||| Data --> [tensor([[9, 6]]), ('d',)]\n",
      "EPOCH: 1 ||| Data --> [tensor([[ 3, 10]]), ('b',)]\n",
      "EPOCH: 1 ||| Data --> [tensor([[8, 4]]), ('b',)]\n",
      "EPOCH: 1 ||| Data --> [tensor([[7, 2]]), ('c',)]\n",
      "\n",
      "EPOCH: 2 ||| Data --> [tensor([[3, 9]]), ('a',)]\n",
      "EPOCH: 2 ||| Data --> [tensor([[8, 6]]), ('a',)]\n",
      "EPOCH: 2 ||| Data --> [tensor([[2, 7]]), ('d',)]\n",
      "EPOCH: 2 ||| Data --> [tensor([[1, 5]]), ('d',)]\n",
      "EPOCH: 2 ||| Data --> [tensor([[ 4, 10]]), ('a',)]\n",
      "\n"
     ]
    }
   ],
   "source": [
    "test_meta_dataset = Meta_test_dataset(10, 2)\n",
    "test_meta_dataloader = DataLoader(test_meta_dataset, batch_size=1, shuffle=True)\n",
    "\n",
    "for epoch in range(3):\n",
    "    for batch in test_meta_dataloader:\n",
    "        print(\"EPOCH: \" + str(epoch) + \" ||| Data --> \" + str(batch))\n",
    "    print()"
   ]
  },
  {
   "cell_type": "markdown",
   "metadata": {},
   "source": [
    "## Gradient Accumulation\n",
    "#### We start by testing only the accumulation of gradients. Further on we will test the accumulated mini-batch normalisation"
   ]
  },
  {
   "cell_type": "code",
   "execution_count": 5,
   "metadata": {},
   "outputs": [],
   "source": [
    "import sys\n",
    "sys.path.append(\"..\") # So it's possible to retrieve packages at a higher top level. (than the directory where the notebook is running)\n",
    "\n",
    "import torch\n",
    "import torch.nn as nn\n",
    "from   torch.utils.data import Dataset, DataLoader\n",
    "from   models.mlp import MLP"
   ]
  },
  {
   "cell_type": "code",
   "execution_count": 10,
   "metadata": {},
   "outputs": [
    {
     "name": "stdout",
     "output_type": "stream",
     "text": [
      "_layers.0.weight tensor([[ 0.8378],\n",
      "        [-0.3861],\n",
      "        [-0.7101],\n",
      "        [-0.8737]])\n",
      "_layers.0.bias tensor([ 0.5251,  0.0785,  0.9374, -0.5521])\n",
      "_layers.0.weight tensor([[ 0.8378],\n",
      "        [-0.3861],\n",
      "        [-0.7101],\n",
      "        [-0.8737]])\n",
      "_layers.0.bias tensor([ 0.5251,  0.0785,  0.9374, -0.5521])\n"
     ]
    }
   ],
   "source": [
    "class Test_dataset(Dataset):\n",
    "\n",
    "    def __init__(self):\n",
    "        self._x = [1, 2, 3, 4]\n",
    "        self._y = [0, 1, 2, 3]\n",
    "\n",
    "    def __len__(self):\n",
    "        return len(self._x)\n",
    "\n",
    "    def __getitem__(self, index):\n",
    "        return (torch.tensor(self._x[index], dtype=torch.float32), torch.tensor(self._y[index], dtype=torch.long))\n",
    "\n",
    "model1 = MLP([1, 4], [nn.ReLU()])\n",
    "for name, param in model1.named_parameters():\n",
    "    print(name, param.data)\n",
    "model2 = MLP([1, 4], [nn.ReLU()])\n",
    "model2.load_state_dict(model1.state_dict())\n",
    "for name, param in model2.named_parameters():\n",
    "    print(name, param.data)\n",
    "\n",
    "loss_function = torch.nn.CrossEntropyLoss(reduction='sum')\n",
    "\n",
    "optimiser1 = torch.optim.Adam(model1.parameters())\n",
    "optimiser2 = torch.optim.Adam(model2.parameters())\n",
    "\n",
    "dl = DataLoader(Test_dataset(), shuffle=False, batch_size=2)"
   ]
  },
  {
   "cell_type": "code",
   "execution_count": 11,
   "metadata": {},
   "outputs": [
    {
     "name": "stdout",
     "output_type": "stream",
     "text": [
      "tensor([1., 2.]) tensor([0, 1])\n",
      "loss tensor(3.0935, grad_fn=<NllLossBackward>)\n",
      "tensor([3., 4.]) tensor([2, 3])\n",
      "loss tensor(7.1096, grad_fn=<NllLossBackward>)\n",
      "_layers.0.weight tensor([[7.4358],\n",
      "        [0.0000],\n",
      "        [0.1752],\n",
      "        [0.0000]])\n",
      "_layers.0.bias tensor([2.1120, 0.0000, 0.1752, 0.0000])\n"
     ]
    }
   ],
   "source": [
    "accumulate = 2\n",
    "\n",
    "optimiser1.zero_grad()\n",
    "for batch_num, batch in enumerate(dl):\n",
    "\n",
    "    inputs, labels = batch\n",
    "    print(inputs, labels)\n",
    "    \n",
    "    preds = model1(inputs.unsqueeze(1))[0]\n",
    "    loss = loss_function(preds, labels)\n",
    "    print(\"loss\", loss)\n",
    "    loss.backward()\n",
    "\n",
    "for name, param in model1.named_parameters():\n",
    "    print(name, param.grad)\n",
    "optimiser1.zero_grad()"
   ]
  },
  {
   "cell_type": "code",
   "execution_count": 12,
   "metadata": {},
   "outputs": [
    {
     "name": "stdout",
     "output_type": "stream",
     "text": [
      "tensor([1., 2.]) tensor([0, 1])\n",
      "total_loss tensor(3.0935, grad_fn=<AddBackward0>)\n",
      "loss tensor(3.0935, grad_fn=<NllLossBackward>)\n",
      "tensor([3., 4.]) tensor([2, 3])\n",
      "total_loss tensor(10.2031, grad_fn=<AddBackward0>)\n",
      "loss tensor(7.1096, grad_fn=<NllLossBackward>)\n",
      "\n",
      "_layers.0.weight tensor([[7.4358],\n",
      "        [0.0000],\n",
      "        [0.1752],\n",
      "        [0.0000]])\n",
      "_layers.0.bias tensor([2.1120, 0.0000, 0.1752, 0.0000])\n"
     ]
    }
   ],
   "source": [
    "optimiser2.zero_grad()\n",
    "\n",
    "total_loss = 0\n",
    "for batch_num, batch in enumerate(dl):\n",
    "\n",
    "    inputs, labels = batch\n",
    "    print(inputs, labels)\n",
    "\n",
    "    preds = model2(inputs.unsqueeze(1))[0]\n",
    "    loss = loss_function(preds, labels)\n",
    "    total_loss += loss\n",
    "    print(\"total_loss\", total_loss)\n",
    "    print(\"loss\", loss)\n",
    "    \n",
    "total_loss.backward()\n",
    "print()\n",
    "for name, param in model2.named_parameters():\n",
    "    print(name, param.grad)"
   ]
  },
  {
   "cell_type": "markdown",
   "metadata": {},
   "source": [
    "#### Now we test the accumulated mini-batch normalisation, by changing the learning rate"
   ]
  },
  {
   "cell_type": "code",
   "execution_count": 35,
   "metadata": {},
   "outputs": [
    {
     "name": "stdout",
     "output_type": "stream",
     "text": [
      "_layers.0.weight tensor([[-0.2644],\n",
      "        [-0.8340],\n",
      "        [-0.9433],\n",
      "        [-0.0489]])\n",
      "_layers.0.bias tensor([0.4230, 0.7725, 0.5209, 0.2457])\n",
      "_layers.0.weight tensor([[-0.2644],\n",
      "        [-0.8340],\n",
      "        [-0.9433],\n",
      "        [-0.0489]])\n",
      "_layers.0.bias tensor([0.4230, 0.7725, 0.5209, 0.2457])\n"
     ]
    }
   ],
   "source": [
    "class Test_dataset(Dataset):\n",
    "\n",
    "    def __init__(self):\n",
    "        self._x = [1, 2, 3, 4]\n",
    "        self._y = [0, 1, 2, 3]\n",
    "\n",
    "    def __len__(self):\n",
    "        return len(self._x)\n",
    "\n",
    "    def __getitem__(self, index):\n",
    "        return (torch.tensor(self._x[index], dtype=torch.float32), torch.tensor(self._y[index], dtype=torch.long))\n",
    "\n",
    "model1 = MLP([1, 4], [nn.ReLU()])\n",
    "for name, param in model1.named_parameters():\n",
    "    print(name, param.data)\n",
    "model2 = MLP([1, 4], [nn.ReLU()])\n",
    "model2.load_state_dict(model1.state_dict())\n",
    "for name, param in model2.named_parameters():\n",
    "    print(name, param.data)\n",
    "\n",
    "loss_function1 = torch.nn.CrossEntropyLoss(reduction='mean')\n",
    "loss_function2 = torch.nn.CrossEntropyLoss(reduction='sum')\n",
    "\n",
    "mini_batch_size = 2\n",
    "accumulate = 2\n",
    "\n",
    "\n",
    "optimiser1 = torch.optim.SGD(model1.parameters(), lr=0.01)\n",
    "optimiser2 = torch.optim.SGD(model2.parameters(), lr=0.01/(accumulate*mini_batch_size))\n",
    "\n",
    "dl = DataLoader(Test_dataset(), shuffle=False, batch_size=2)"
   ]
  },
  {
   "cell_type": "code",
   "execution_count": 36,
   "metadata": {},
   "outputs": [
    {
     "name": "stdout",
     "output_type": "stream",
     "text": [
      "SGD (\n",
      "Parameter Group 0\n",
      "    dampening: 0\n",
      "    lr: 0.01\n",
      "    momentum: 0\n",
      "    nesterov: False\n",
      "    weight_decay: 0\n",
      ")\n",
      "tensor([1., 2.]) tensor([0, 1])\n",
      "loss tensor(0.6865, grad_fn=<DivBackward0>)\n",
      "tensor([3., 4.]) tensor([2, 3])\n",
      "loss tensor(0.6902, grad_fn=<DivBackward0>)\n",
      "\n",
      "GRAD: _layers.0.weight tensor([[-0.1833],\n",
      "        [ 0.0000],\n",
      "        [ 0.0000],\n",
      "        [-0.3299]])\n",
      "GRAD: _layers.0.bias tensor([-0.1833,  0.0000,  0.0000,  0.0212])\n",
      "\n",
      "VALUE: _layers.0.weight tensor([[-0.2626],\n",
      "        [-0.8340],\n",
      "        [-0.9433],\n",
      "        [-0.0456]])\n",
      "VALUE: _layers.0.bias tensor([0.4248, 0.7725, 0.5209, 0.2455])\n"
     ]
    }
   ],
   "source": [
    "print(optimiser1)\n",
    "optimiser1.zero_grad()\n",
    "\n",
    "for batch_num, batch in enumerate(dl):\n",
    "\n",
    "    inputs, labels = batch\n",
    "    print(inputs, labels)\n",
    "    \n",
    "    preds = model1(inputs.unsqueeze(1))[0]\n",
    "    loss = loss_function1(preds, labels)/accumulate\n",
    "    print(\"loss\", loss)\n",
    "    loss.backward()\n",
    "\n",
    "print()\n",
    "for name, param in model1.named_parameters():\n",
    "    print(\"GRAD:\", name, param.grad)\n",
    "\n",
    "# Perform optimiser step\n",
    "optimiser1.step()\n",
    "optimiser1.zero_grad()\n",
    "print()\n",
    "for name, param in model1.named_parameters():\n",
    "    print(\"VALUE:\", name, param.data)"
   ]
  },
  {
   "cell_type": "code",
   "execution_count": 37,
   "metadata": {},
   "outputs": [
    {
     "name": "stdout",
     "output_type": "stream",
     "text": [
      "SGD (\n",
      "Parameter Group 0\n",
      "    dampening: 0\n",
      "    lr: 0.0025\n",
      "    momentum: 0\n",
      "    nesterov: False\n",
      "    weight_decay: 0\n",
      ")\n",
      "tensor([1., 2.]) tensor([0, 1])\n",
      "loss tensor(2.7460, grad_fn=<NllLossBackward>) tensor(0.6865, grad_fn=<DivBackward0>)\n",
      "loss check tensor(2.7460, grad_fn=<NllLossBackward>)\n",
      "tensor([3., 4.]) tensor([2, 3])\n",
      "loss tensor(2.7608, grad_fn=<NllLossBackward>) tensor(0.6902, grad_fn=<DivBackward0>)\n",
      "loss check tensor(2.7608, grad_fn=<NllLossBackward>)\n",
      "\n",
      "GRAD: _layers.0.weight tensor([[-0.7330],\n",
      "        [ 0.0000],\n",
      "        [ 0.0000],\n",
      "        [-1.3197]])\n",
      "GRAD: _layers.0.bias tensor([-0.7330,  0.0000,  0.0000,  0.0848])\n",
      "\n",
      "VALUE: _layers.0.weight tensor([[-0.2626],\n",
      "        [-0.8340],\n",
      "        [-0.9433],\n",
      "        [-0.0456]])\n",
      "VALUE: _layers.0.bias tensor([0.4248, 0.7725, 0.5209, 0.2455])\n"
     ]
    }
   ],
   "source": [
    "print(optimiser2)\n",
    "optimiser2.zero_grad()\n",
    "\n",
    "for batch_num, batch in enumerate(dl):\n",
    "\n",
    "    inputs, labels = batch\n",
    "    print(inputs, labels)\n",
    "\n",
    "    preds = model2(inputs.unsqueeze(1))[0]\n",
    "    loss = loss_function(preds, labels)\n",
    "    print(\"loss\", loss, loss/(accumulate*mini_batch_size))\n",
    "    print(\"loss check\", loss)\n",
    "    loss.backward()\n",
    "\n",
    "print()\n",
    "for name, param in model2.named_parameters():\n",
    "    print(\"GRAD:\", name, param.grad)\n",
    "\n",
    "# Perform optimiser step\n",
    "optimiser2.step()\n",
    "optimiser2.zero_grad()\n",
    "print()\n",
    "for name, param in model2.named_parameters():\n",
    "    print(\"VALUE:\", name, param.data)"
   ]
  },
  {
   "cell_type": "markdown",
   "metadata": {},
   "source": [
    "# AllenNLP fix"
   ]
  },
  {
   "cell_type": "code",
   "execution_count": 2,
   "metadata": {},
   "outputs": [
    {
     "name": "stdout",
     "output_type": "stream",
     "text": [
      "None\n",
      "test\n"
     ]
    }
   ],
   "source": [
    "def a(test_path: str = None) -> None:\n",
    "    print(test_path)\n",
    "\n",
    "a()\n",
    "a('test')"
   ]
  },
  {
   "cell_type": "code",
   "execution_count": null,
   "metadata": {},
   "outputs": [],
   "source": []
  }
 ],
 "metadata": {
  "kernelspec": {
   "display_name": "Python 3",
   "language": "python",
   "name": "python3"
  },
  "language_info": {
   "codemirror_mode": {
    "name": "ipython",
    "version": 3
   },
   "file_extension": ".py",
   "mimetype": "text/x-python",
   "name": "python",
   "nbconvert_exporter": "python",
   "pygments_lexer": "ipython3",
   "version": "3.6.8"
  }
 },
 "nbformat": 4,
 "nbformat_minor": 2
}
